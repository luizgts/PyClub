{
 "cells": [
  {
   "cell_type": "markdown",
   "metadata": {},
   "source": [
    "# Hello World"
   ]
  },
  {
   "cell_type": "code",
   "execution_count": null,
   "metadata": {},
   "outputs": [],
   "source": []
  },
  {
   "cell_type": "markdown",
   "metadata": {},
   "source": [
    "# Comentários\n",
    "\n",
    "```\n",
    "# Uma linha\n",
    "\n",
    "\"\"\"\n",
    "Múltiplas\n",
    "Linhas\n",
    "\"\"\"\n",
    "```"
   ]
  },
  {
   "cell_type": "code",
   "execution_count": null,
   "metadata": {},
   "outputs": [],
   "source": []
  },
  {
   "cell_type": "markdown",
   "metadata": {},
   "source": [
    "# Variáveis\n",
    "Variáveis são nomes que apontam para espaços reservados na memória do computador. Possibilitam o armazenamento temporário de objetos na memória durante a execução do programa.\n",
    "\n"
   ]
  },
  {
   "cell_type": "code",
   "execution_count": null,
   "metadata": {},
   "outputs": [],
   "source": [
    "# Olá Mundo usando variáveis"
   ]
  },
  {
   "cell_type": "markdown",
   "metadata": {},
   "source": [
    "# Tipos de dados\n",
    "Os tipos existem para representar as informações que um programa manipula, os principais são:\n",
    "\n",
    "* Integer (Inteiro)\n",
    "* Float (Decimal)\n",
    "* String (Texto)\n",
    "* Boolean (Booleano)\n",
    "* None (Nenhum)\n",
    "\n",
    "Utilize a função `type()` sempre que precisar inspecionar o tipo de uma determinada variável."
   ]
  },
  {
   "cell_type": "code",
   "execution_count": null,
   "metadata": {},
   "outputs": [],
   "source": [
    "# Descrevendo os atributos de uma pessoa usando variáveis."
   ]
  },
  {
   "cell_type": "markdown",
   "metadata": {},
   "source": [
    "# Interpolação de String\n",
    "Também conhecido como f-string, é um recurso do Python que permite interpolar dados dinâmicos no meio de strings.\n"
   ]
  },
  {
   "cell_type": "code",
   "execution_count": null,
   "metadata": {},
   "outputs": [],
   "source": [
    "# Apresentação pessoal"
   ]
  },
  {
   "cell_type": "markdown",
   "metadata": {},
   "source": [
    "# E/S\n",
    "O Python disponibiliza duas funções que controlam a entrada e saída de dados.\n",
    "\n",
    "* A função `input()` captura os dados de entrada enviados pelo teclado.\n",
    "* A função `print()` imprime as informações no console."
   ]
  },
  {
   "cell_type": "code",
   "execution_count": null,
   "metadata": {},
   "outputs": [],
   "source": [
    "# Fazendo o Python falar"
   ]
  },
  {
   "cell_type": "markdown",
   "metadata": {},
   "source": [
    "# Conversão de tipos\n",
    "Conhecido também como `casting`, é um processo que consiste em mudar um determinado tipo de dado para outro. O Python disponibiliza diversas funções para este fim.\n",
    "\n",
    "```\n",
    "int()\n",
    "str()\n",
    "float()\n",
    "bool()\n",
    "```"
   ]
  },
  {
   "cell_type": "code",
   "execution_count": 2,
   "metadata": {},
   "outputs": [
    {
     "name": "stdout",
     "output_type": "stream",
     "text": [
      "Soma: 1010\n"
     ]
    }
   ],
   "source": [
    "# Somando valores\n",
    "\n",
    "valor1 = input(\"Informe o primeiro valor: \")\n",
    "valor2 = input(\"Informe o segundo valor: \")\n",
    "print(f'Resultado: {valor1 + valor2}')"
   ]
  },
  {
   "cell_type": "markdown",
   "metadata": {},
   "source": [
    "# Operadores aritméticos\n",
    "\n",
    "* Adição `+`\n",
    "* Subtração `-`\n",
    "* Multiplicação `*`\n",
    "* Divisão `*`\n",
    "* Resto da divisão `%`\n",
    "* Potênciação `**`"
   ]
  },
  {
   "cell_type": "code",
   "execution_count": 4,
   "metadata": {},
   "outputs": [
    {
     "data": {
      "text/plain": [
       "8"
      ]
     },
     "execution_count": 4,
     "metadata": {},
     "output_type": "execute_result"
    }
   ],
   "source": [
    "# Teste os operadores\n",
    "\n",
    "1 + 1"
   ]
  },
  {
   "cell_type": "markdown",
   "metadata": {},
   "source": [
    "# Exercícios I"
   ]
  },
  {
   "cell_type": "code",
   "execution_count": null,
   "metadata": {},
   "outputs": [],
   "source": [
    "# 1. Crie um programa que imprima o valor ao quadrado de um número"
   ]
  },
  {
   "cell_type": "code",
   "execution_count": null,
   "metadata": {},
   "outputs": [],
   "source": [
    "# 2. Crie um programa que imprima o dobro de um número"
   ]
  },
  {
   "cell_type": "code",
   "execution_count": null,
   "metadata": {},
   "outputs": [],
   "source": [
    "# 3. Crie um programa que calcule e imprima a quantidade de dias em 7 meses, considerando que cada mês tenha 30 dias"
   ]
  },
  {
   "cell_type": "code",
   "execution_count": null,
   "metadata": {},
   "outputs": [],
   "source": [
    "# 4. Crie um programa que receba como entrada as cinco notas de um aluno, calcule a média das notas e imprima o resultado"
   ]
  },
  {
   "cell_type": "code",
   "execution_count": null,
   "metadata": {},
   "outputs": [],
   "source": [
    "# 5. Crie um programa que receba como entrada um valor em metros, converta para centímetros e imprima o resultado"
   ]
  },
  {
   "cell_type": "code",
   "execution_count": null,
   "metadata": {},
   "outputs": [],
   "source": [
    "# 6. Crie um programa que receba como entrada o valor de um produto, e o valor de desconto em porcentagem, calcule o desconto do produto e imprima o resultado"
   ]
  },
  {
   "cell_type": "markdown",
   "metadata": {},
   "source": [
    "# Operadores relacionais\n",
    "Estes operadores retornam um valor booleano apartir da comparação lógica do elemento a sua esquerda com o elemento a sua direita.\n",
    "\n",
    "* Igual `=`\n",
    "* Diferente `!=`\n",
    "* Menor `<`\n",
    "* Menor ou igual `<=`\n",
    "* Maior `>`\n",
    "* Maior ou igual `>=`"
   ]
  },
  {
   "cell_type": "code",
   "execution_count": 5,
   "metadata": {},
   "outputs": [
    {
     "data": {
      "text/plain": [
       "False"
      ]
     },
     "execution_count": 5,
     "metadata": {},
     "output_type": "execute_result"
    }
   ],
   "source": [
    "# Teste os operadores\n",
    "\n",
    "1 > 2"
   ]
  },
  {
   "cell_type": "markdown",
   "metadata": {},
   "source": [
    "# Operadores lógicos\n",
    "Assim como os operadores relacionais os operadores lógicos também retornam um valor booleano apartir da comparação lógica do elemento/expressão a sua esquerda com o elemento/expressão a sua direita.\n",
    "\n",
    "* E `and`\n",
    "* Ou `or`\n",
    "* Não `not`\n",
    "\n",
    "O operador `and` retorna `True` somente quando os elementos/expressões comparados forem `True`."
   ]
  },
  {
   "cell_type": "code",
   "execution_count": 7,
   "metadata": {},
   "outputs": [
    {
     "name": "stdout",
     "output_type": "stream",
     "text": [
      "True\n"
     ]
    }
   ],
   "source": [
    "# Teste o operador and\n",
    "\n",
    "sol = True\n",
    "chuva = True\n",
    "\n",
    "# A viúva casa se fizer sol e chuva\n",
    "print(sol and chuva)\n"
   ]
  },
  {
   "cell_type": "markdown",
   "metadata": {},
   "source": [
    "O operador `or` retorna `True` se ao menos um dos elementos/expressões for `True`."
   ]
  },
  {
   "cell_type": "code",
   "execution_count": null,
   "metadata": {},
   "outputs": [],
   "source": [
    "# Teste o operador or\n",
    "\n",
    "sol = True\n",
    "chuva = False\n",
    "\n",
    "# A viúva casa se fizer sol ou chuva\n",
    "print(sol or chuva)"
   ]
  },
  {
   "cell_type": "markdown",
   "metadata": {},
   "source": [
    "O operador `not` é geralmente utilizado em operações lógicas de negação, e faz a inversão de valores booleanos."
   ]
  },
  {
   "cell_type": "code",
   "execution_count": 9,
   "metadata": {},
   "outputs": [
    {
     "name": "stdout",
     "output_type": "stream",
     "text": [
      "True\n"
     ]
    }
   ],
   "source": [
    "# Teste o operador not\n",
    "\n",
    "chuva = False\n",
    "\n",
    "# A viúva quer saber se não está chovendo\n",
    "print(not chuva)"
   ]
  },
  {
   "cell_type": "markdown",
   "metadata": {},
   "source": [
    "# Estrutura condicional\n",
    "As instruções condicionais nos permitem testar condições e executar um blóco de códigos se determinada condição for verdadeira. Diferente de outras linguagens de programação o Python define os blócos de código através da indentação (recuo de linha)\n",
    "\n",
    "Exemplo em pseudocódigo:\n",
    "```\n",
    "SE sol E chuva ENTAO\n",
    "    ESCREVA \"A viúva pode casar\"\n",
    "FIM SE\n",
    "```"
   ]
  },
  {
   "cell_type": "code",
   "execution_count": 11,
   "metadata": {},
   "outputs": [],
   "source": [
    "# Teste a instrução if\n",
    "\n",
    "sol = True\n",
    "chuva = False\n",
    "\n",
    "if sol and chuva:\n",
    "    print(\"A viúva pode casar\")"
   ]
  },
  {
   "cell_type": "markdown",
   "metadata": {},
   "source": [
    "Para os casos em que desejamos fazer algo quando a condição não for verdadeira, podemos utilizar a instrução `else`.\n",
    "\n",
    "Exemplo em pseudocódigo:\n",
    "\n",
    "```\n",
    "SE sol E chuva ENTAO\n",
    "    ESCREVA \"A viúva pode casar\"\n",
    "SENAO\n",
    "    ESCREVA \"A viúva não pode casar\"\n",
    "FIM SE\n",
    "```"
   ]
  },
  {
   "cell_type": "code",
   "execution_count": 12,
   "metadata": {},
   "outputs": [
    {
     "name": "stdout",
     "output_type": "stream",
     "text": [
      "A viúva não pode casar\n"
     ]
    }
   ],
   "source": [
    "# Teste a instrução if/else\n",
    "\n",
    "sol = True\n",
    "chuva = False\n",
    "\n",
    "if sol and chuva:\n",
    "    print(\"A viúva pode casar\")\n",
    "else:\n",
    "    print(\"A viúva não pode casar\")"
   ]
  },
  {
   "cell_type": "markdown",
   "metadata": {},
   "source": [
    "A estrutura condicional também pode testar multiplas condições através da intrução `if/elif/else`, mas vai executar o bloco de código da primeira condição que for verdadeira."
   ]
  },
  {
   "cell_type": "code",
   "execution_count": 13,
   "metadata": {},
   "outputs": [
    {
     "name": "stdout",
     "output_type": "stream",
     "text": [
      "Adolescente\n"
     ]
    }
   ],
   "source": [
    "idade = 15\n",
    "\n",
    "if idade < 12:\n",
    "    print(\"Criança\")\n",
    "elif idade < 18:\n",
    "    print(\"Adolescente\")\n",
    "else:\n",
    "    print(\"Idade não reconhecida\")"
   ]
  },
  {
   "cell_type": "markdown",
   "metadata": {},
   "source": [
    "# Exercícios II"
   ]
  },
  {
   "cell_type": "code",
   "execution_count": null,
   "metadata": {},
   "outputs": [],
   "source": [
    "# 1. Crie um programa que receba como entrada o login e senha de um usuário, compare as informações com um login e senha pré-definidos e imprima a mensagem acesso permitido ou acesso negado"
   ]
  },
  {
   "cell_type": "code",
   "execution_count": null,
   "metadata": {},
   "outputs": [],
   "source": [
    "# 2. Crie um programa que receba como entrada a idade do usuário e imprima se é maior ou menor de 18 anos"
   ]
  },
  {
   "cell_type": "code",
   "execution_count": null,
   "metadata": {},
   "outputs": [],
   "source": [
    "# 3. Crie um programa que receba como entrada um número inteiro e imprima se é par ou ímpar"
   ]
  },
  {
   "cell_type": "code",
   "execution_count": null,
   "metadata": {},
   "outputs": [],
   "source": [
    "# 4. Crie um programa que receba como entrada o peso e altura de um paciente, calcule seu Índice de Massa Corporea (IMC) e imprima o valor do IMC e sua classificação.\n",
    "\n",
    "\"\"\"\n",
    "O IMC é calculado dividindo o peso (em kg) pela altura ao quadrado (em metros)\n",
    "\n",
    "# Tabela de classificação\n",
    "Abaixo do peso  | abaixo de 18.5\n",
    "Peso ideal      | entre 18.6 e 24.9\n",
    "Sobre peso      | entre 25.0 e 29.9\n",
    "Obesidade I     | entre 30.0 e 34.9\n",
    "Obesidade II    | entre 35.0 e 39.9\n",
    "Obesidade III   | acima de 40.0\n",
    "\"\"\""
   ]
  }
 ],
 "metadata": {
  "interpreter": {
   "hash": "082e9a3bcad0a290d0001e938aa60b99250c6c2ef33a923c00b70f9826caf4b7"
  },
  "kernelspec": {
   "display_name": "Python 3.8.0 64-bit",
   "language": "python",
   "name": "python3"
  },
  "language_info": {
   "codemirror_mode": {
    "name": "ipython",
    "version": 3
   },
   "file_extension": ".py",
   "mimetype": "text/x-python",
   "name": "python",
   "nbconvert_exporter": "python",
   "pygments_lexer": "ipython3",
   "version": "3.8.0"
  },
  "orig_nbformat": 4
 },
 "nbformat": 4,
 "nbformat_minor": 2
}
